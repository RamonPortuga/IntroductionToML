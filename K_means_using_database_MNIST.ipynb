{
  "cells": [
    {
      "cell_type": "markdown",
      "metadata": {
        "id": "GvlEHUWgPuAm"
      },
      "source": [
        "####Nome: Ramon Oliveira de Azevedo\n",
        "####DRE: 120023419\n",
        "####6° Período\n",
        "####Ciência da Computação"
      ]
    },
    {
      "cell_type": "markdown",
      "metadata": {
        "id": "GWb4T2GzP4gF"
      },
      "source": [
        "#Projeto Final de Álgebra Linear Algorítmica - Professor João Antônio Recio da Paixão"
      ]
    },
    {
      "cell_type": "markdown",
      "metadata": {
        "id": "Cz4P_H6Gk3nt"
      },
      "source": [
        "#<center>Reconhecimento de Dígitos usando K-means</center>"
      ]
    },
    {
      "cell_type": "markdown",
      "metadata": {
        "id": "tOloiwwOQFcG"
      },
      "source": [
        "##Sumário\n",
        "\n",
        "*   Apresentação do projeto e objetivo\n",
        "*   Imagens\n",
        "*   Python e o Algoritmo K-Means\n",
        "*   A Base de Dados\n",
        "*   Implementação\n",
        "*   Referências Bibliográficas\n",
        "*   Agradecimentos"
      ]
    },
    {
      "cell_type": "markdown",
      "metadata": {
        "id": "U4ZVFkJ2jwG0"
      },
      "source": [
        "###Apresentação do projeto e objetivo\n"
      ]
    },
    {
      "cell_type": "markdown",
      "metadata": {
        "id": "RAx_nHTkkPO7"
      },
      "source": [
        "A ideia para a realização deste trabalho surgiu após o desenvolvimento do \"Projeto 02\" de Probest, ministrada pelo Professor Hugo Tremonte de Carvalho, que tinha como foco justamente o reconhecimento de dígitos utilizando aprendizado de máquina supervisionado, fazendo-se uso do classificador de Naive Bayes Gaussiano. O Colab do referido trabalho continha a explicação do projeto e os enunciados das questões que buscaram estimular o desenvolvimento teórico e prático da disciplina. Por sua vez, tanto ele quanto as minhas respostas podem ser encontrados [aqui](https://colab.research.google.com/drive/1_aazj-yZQUwoBHo0Gt53q4Ou4anOKebH?usp=sharing) e [aqui](https://colab.research.google.com/drive/1SG3IYtUs367RPgQBBshvUc_02vWM_Ttf?usp=sharing), respectivamente.\n",
        "\n",
        "Dessa forma, este trabalho acaba tendo como objetivo, realizar uma integração entre as disciplinas Estátisca e Probabilidade (Probest) e Álgebra Linear Algorítmica (ALA) através de um tema em comum entre ambas, o desenvolvimento de métodos para o reconhecimento de dígitos. Como a utilização de K-means é uma forma de aprendizado não-supervisionado, buscarei realizar uma comparação entre as duas formas distintas apresentadas analisando a sua complexidade de entendimento para uma pessoa que está se iniciando na aréa de Ciência da Computação, assim como a sua eficiência através da análise da acurácia entre ambas."
      ]
    },
    {
      "cell_type": "markdown",
      "metadata": {
        "id": "PLGhT7q7ugKz"
      },
      "source": [
        "###Imagens"
      ]
    },
    {
      "cell_type": "markdown",
      "metadata": {
        "id": "WvsVo9LKu9qb"
      },
      "source": [
        "####Como se representa imagens computacionalmente?"
      ]
    },
    {
      "cell_type": "markdown",
      "metadata": {
        "id": "kgG48S1f1m1a"
      },
      "source": [
        "A computação é um setor amplo, existindo diversas formas nas quais podemos representar uma imagem. Porém, geralmente, as imagens são formadas por um grid de pixels, isto é, uma matriz $N$ X $N$ qualquer de pixels. Mas afinal, o quê são pixels?\n",
        "\n",
        "Ele é a menor unidade que compõe uma imagem digital, independente de qual seja a fonte. Ao ampliar uma imagem ao máximo, conseguimos ver claramente o pixel na composição das imagens. Logo, ele é o menor elemento que um dispositivo gráfico digital, como monitores, televisões e etc. podem exibir, onde cada pixel será atribuído uma cor. \n",
        "\n",
        "Como sabemos, computadores trabalham com números e não cores, então cada pixel é salvo no computador como um valor que corresponde a intensidade da cor presente nele. Assim, cada um desses pixel é então disposto em uma matriz que, ao final, quando totalmente preenchida, representará uma imagem qualquer. Este fator é percebido principalmente em imagens com pouca quantidade de pixels, como em artes no estilo Pixel Art, onde cada pixel é escolhido e preenchido individualmente. Abaixo, segue um exemplo de Pixel Art do jogo \"Curse of Heartbeat\", desenvolvido pelo meu grupo para a disciplina \"Introdução ao Desenvolvimento de Jogos Eletrônicos (GameDev)\":\n",
        "\n",
        "\n",
        "![](https://drive.google.com/uc?export=view&id=1lNgRrvJuN3UkqdfVGbnRiiNeNesSNS-L)\n",
        "\n",
        "Entendido o quê são pixels, como eles são entendidos pelo computador como dado? Cada pixel pode ser representado por padrões de cores, como RGB, HSL, HSV, etc. Tomando como base o dataset que utilizaremos, a cor é salva com intervalos de 0 a 255, no qual 0 é totalmente preto e 255 totalmente branco. Dessa forma, podemos concluir que para um computador uma imagem é uma matriz de números. O gif abaixo demonstra essa troca:\n",
        "\n",
        "![](https://drive.google.com/uc?export=view&id=1oOBfbw99X33vRqG-kjfsSxWzo8Ml_kAg)"
      ]
    },
    {
      "cell_type": "markdown",
      "metadata": {
        "id": "MTAe6Xt2zmq0"
      },
      "source": [
        "###Python e o Algoritmo K-Means"
      ]
    },
    {
      "cell_type": "markdown",
      "metadata": {
        "id": "44ath4Kno5Ix"
      },
      "source": [
        "####A Linguagem\n",
        "Para o desenvolvimento do projeto, será utilizada a linguagem de programação Python. Ela foi escolhida por ter um repertório bastante amplo envolvendo data science, machine learning, álgebra linear e métodos numéricos. Além disso, se caracteriza por ser uma linguagem bastante intuitiva e com bastante informação disponível para pesquisas, principalmente em artigos em sites, blogs e no Stack Overflow, além de ser a principal linguagem utilizada pelo Google Colab."
      ]
    },
    {
      "cell_type": "markdown",
      "metadata": {
        "id": "Q6nf0Ux36k4a"
      },
      "source": [
        "####O Algoritmo K-Means"
      ]
    },
    {
      "cell_type": "markdown",
      "metadata": {
        "id": "KOgNQZ3f6pJP"
      },
      "source": [
        "Por definição, K-Means é um algoritmo de clusterização (ou agrupamento) e ele pode ser encontrado na biblioteca Scikit-Learn do Python e na qual será utilizada no decorrer de nossa implementação.\n",
        "\n",
        "Ele se caracteriza por ser um algoritmo de aprendizado não supervisionado (ou seja, que não precisa de inputs de confirmação externos) que avalia e clusteriza os dados de acordo com suas características, como por exemplo:\n",
        "\n",
        "\n",
        "*   lojas/centro logistico\n",
        "*   clientes/produtos ou serviços semelhantes\n",
        "*   clientes/características semelhantes\n",
        "*   séries/gênero da série ou faixa etaria\n",
        "*   usuarios de uma rede social/usuario influenciador\n",
        "*   paciente/sintoma ou característica semelhante\n",
        "\n",
        "Assim, digamos que sejamos responsáveis por uma grande rede de lojas de abrangência nacional (que não seja a Americanas 😝), qual seria os melhores lugares para construir os centros logísticos de abastecimento?\n",
        "\n",
        "Isso pode ser respondido utilizando K-means.\n",
        "\n",
        "Com isso em mente, dado uma matriz $M$ de entrada e um valor $K$ qualquer de clusters, retorna os segmentos da matriz $M$. Assim, podemos demonstrar o funcionamento do algoritmo através de 5 passos. São eles:\n",
        "\n",
        "1.   Primeiro, preciso definir um $K$, ou seja, um número de clusters (que aqui também será chamado de agrupamentos).\n",
        "2.   Depois, preciso definir, aleatoriamente, um centroide para cada cluster.\n",
        "3.   O próximo passo é calcular, para cada ponto de $M$, o centroide de menor distância. Cada ponto pertencerá ao centroide mais próximo (lembrar do exemplo do CD logístico e das lojas: cada loja (ponto) deve ser atendida pelo CD (centróide) mais próximo)\n",
        "4.   Agora, devo reposicionar o centróide. A nova posição do centroide deve ser a média da posição de todos os pontos do cluster.\n",
        "5.   Os dois ultimos passos são repetidos, iterativamente, até obtermos a posição ideal dos centróides.\n",
        "\n",
        "Ficou na dúvida? Uma boa forma de compreender como isso tudo funciona é observar o gif abaixo, que visa demonstrar como é o K-means na prática.\n",
        "\n",
        "\n",
        "![](https://drive.google.com/uc?export=view&id=1GfJqdXKLfQAHhp6_cGaD2EA2oP-LmfLT)\n",
        "\n",
        "\n",
        "Agora que estamos mais familiarizados com o K-means, basta colocarmos as mãos na massa e demonstrar como o reconhecimento de dígitos será implementado.\n",
        "\n",
        "\n"
      ]
    },
    {
      "cell_type": "markdown",
      "metadata": {
        "id": "rZHZnWveq_ED"
      },
      "source": [
        "###A base de dados"
      ]
    },
    {
      "cell_type": "markdown",
      "metadata": {
        "id": "ZugELnAVrP2b"
      },
      "source": [
        "Mantendo o padrão utilizando originalmente, trabalharemos com a base de dados do MNIST (\"*Modified National Institute of Standards and Technology*\"), uma das principais referências (se não, a principal) para quem deseja estudar sobre o tema. Tal base consiste de 70.000 imagens de tamanho 28 x 28, em tons de cinza, contendo dígitos manuscritos, e o principal objetivo com ela é identificar qual é o dígito em questão.\n",
        "\n",
        "\n",
        "A caligrafia de cada ser humano possui traços que podem ser considerados únicos, servindo até hoje como forma de sacramentar documentos, compras e acordos comerciais. Justamente por isso se torna tão difícil reconhecer e classificar corretamente um dígito, se tornando uma tarefa árdua desenvolver algoritmos com níveis altíssimos de acurácia. Algoritmos extremamente sofisticados (e extremamente pesados!) possuem uma taxa de erros de \"apenas\" 0,17%, mas como esse trabalho possui intuito puramente acadêmico com o objetivo de realizar demonstrações simplificadas e abordar toda a parte teórica por trás de um algoritmo, não vamos nos prender tanto a taxas de acurácia absurdamente altas."
      ]
    },
    {
      "cell_type": "markdown",
      "metadata": {
        "id": "ND3CqVRWVrxd"
      },
      "source": [
        "###Implementação"
      ]
    },
    {
      "cell_type": "markdown",
      "metadata": {
        "id": "St0-PpC_VA8i"
      },
      "source": [
        "#####Começando do básico, vamos importar as bibliotecas"
      ]
    },
    {
      "cell_type": "code",
      "execution_count": null,
      "metadata": {
        "id": "Vvd0bJtDPPWw"
      },
      "outputs": [],
      "source": [
        "import sys\n",
        "import sklearn\n",
        "import matplotlib\n",
        "import matplotlib.pyplot as plt\n",
        "import numpy as np\n",
        "import time\n",
        "\n",
        "from keras.datasets import mnist\n",
        "from sklearn.cluster import MiniBatchKMeans\n",
        "from sklearn import metrics"
      ]
    },
    {
      "cell_type": "markdown",
      "metadata": {
        "id": "kW0QXQgJVSXC"
      },
      "source": [
        "#####Como esse trabalho servirá como portfólio pessoal, vale deixar explícito as versões que aqui serão trabalhadas:"
      ]
    },
    {
      "cell_type": "code",
      "execution_count": null,
      "metadata": {
        "colab": {
          "base_uri": "https://localhost:8080/"
        },
        "id": "-RZmWvTQVipx",
        "outputId": "3b76827b-719d-4f2b-d695-b976a29291d6"
      },
      "outputs": [
        {
          "output_type": "stream",
          "name": "stdout",
          "text": [
            "Python: 3.8.10 (default, Nov 14 2022, 12:59:47) \n",
            "[GCC 9.4.0]\n",
            "Sklearn: 1.0.2\n",
            "Matplotlib: 3.2.2\n",
            "NumPy: 1.21.6\n"
          ]
        }
      ],
      "source": [
        "print('Python: {}'.format(sys.version))\n",
        "print('Sklearn: {}'.format(sklearn.__version__))\n",
        "print('Matplotlib: {}'.format(matplotlib.__version__))\n",
        "print('NumPy: {}'.format(np.__version__))"
      ]
    },
    {
      "cell_type": "markdown",
      "metadata": {
        "id": "QU4KX6qhVw56"
      },
      "source": [
        "Agora vem o verdadeiro \"pontapé\" inicial para o desenvolvimento do nosso código, o download de nossa base de dados. Como sabemos, cada imagem do MNIST possui tamanho $28$ $X$ $28$, ou seja, uma matriz quadrada. Se analisarmos o Colab original, é possível receber os dados como um grande vetor. Porém, daquela forma, os valores de nossas variáveis seriam do tipo DataFrame, prejudicando o pleno desenvolvimento da implementação, mesmo utilizando a conversão utilizando o método \"to_numpy()\", pois um seria tipo Object e o outro seria do tipo int. Mais abaixo, realizaremos a conversão para um vetor. Além disso, cada imagem possui um \"label\" (em tradução livre, rótulo) associado a ela, que serve como \"gabarito\" para aquela imagem, demonstrando a que número aquela imagem pertence de fato.\n",
        "\n",
        "Com tudo isso em mente, temos o seguinte código:"
      ]
    },
    {
      "cell_type": "code",
      "execution_count": null,
      "metadata": {
        "colab": {
          "base_uri": "https://localhost:8080/"
        },
        "id": "c_AJD4C2VxU0",
        "outputId": "d0cf914b-9b9e-4b30-f24e-a67c073059f7"
      },
      "outputs": [
        {
          "output_type": "stream",
          "name": "stdout",
          "text": [
            "<class 'numpy.ndarray'>\n"
          ]
        }
      ],
      "source": [
        "#Para trabalhar com as imagens em seu tamanho original, bastaria utilizar a linha de código abaixo:\n",
        "(x_train, y_train), (x_test, y_test) = mnist.load_data()\n",
        "\n",
        "print(type(y_train))"
      ]
    },
    {
      "cell_type": "markdown",
      "metadata": {
        "id": "_4cuwuvyVx-i"
      },
      "source": [
        "Como dito anteriormente, a nossa base de dados é composta por 70000 itens. Como definimos o tamanho de nosso conjunto de testes em 10000 (test_size = 10000), temos que, naturalmente, o nosso conjunto de treino terá o restante, ou seja, 60000 imagens ao todo. Podemos conferir isso através do código abaixo:"
      ]
    },
    {
      "cell_type": "code",
      "execution_count": null,
      "metadata": {
        "colab": {
          "base_uri": "https://localhost:8080/"
        },
        "id": "_cQsfcKGVySK",
        "outputId": "1db99b47-7cae-46d8-d035-405ff14727ec"
      },
      "outputs": [
        {
          "output_type": "stream",
          "name": "stdout",
          "text": [
            "Tamanho Conjunto de Treino: (60000, 28, 28)\n",
            "Quantidade de Labels do Conjunto de Treino: (60000,)\n",
            "Tamanho Conjunto de Testes: (10000, 28, 28)\n",
            "Quantidade de Labels do Conjunto de Testes: (10000,)\n"
          ]
        }
      ],
      "source": [
        "print('Tamanho Conjunto de Treino: {}'.format(x_train.shape))\n",
        "print('Quantidade de Labels do Conjunto de Treino: {}'.format(y_train.shape))\n",
        "\n",
        "print('Tamanho Conjunto de Testes: {}'.format(x_test.shape))\n",
        "print('Quantidade de Labels do Conjunto de Testes: {}'.format(y_test.shape))"
      ]
    },
    {
      "cell_type": "markdown",
      "metadata": {
        "id": "sF610zaMdGbd"
      },
      "source": [
        "Finalmente, para facilitar a implementação, vamos tratar cada imagem como se fosse um grande vetor de tamanho $784$, no qual esse valor é definido por ser a quantidade total de casas de cada imagem. Dessa forma, temos que esse somatório pode ser definido através da seguinte definição:\n",
        "\n",
        "#####<center>$28$ $X$ $28$ $=$ $784$</center>\n",
        "\n",
        "Bem simples, não?\n",
        "\n",
        "Agora, basta utilizarmos o método \"reshape\" e tudo estará resolvido. Segue o código:"
      ]
    },
    {
      "cell_type": "code",
      "execution_count": null,
      "metadata": {
        "id": "zpLRS1S-dGzU"
      },
      "outputs": [],
      "source": [
        "#Convertendo as imagens, saindo do formato de uma matriz e indo para o de um vetor.\n",
        "X = x_train.reshape(len(x_train),-1)\n",
        "Y = y_train"
      ]
    },
    {
      "cell_type": "markdown",
      "metadata": {
        "id": "8fS9E-Vbqp2F"
      },
      "source": [
        "Para facilitar o processamento dos dados que acabamos de obter, vamos normalizá-los para que eles fiquem expressos dentro do intervalo entre 0 e 1. Com uma linha, tá resolvido:"
      ]
    },
    {
      "cell_type": "code",
      "execution_count": null,
      "metadata": {
        "id": "WQs6v_m5qqOQ"
      },
      "outputs": [],
      "source": [
        "X = X.astype(float) / 255."
      ]
    },
    {
      "cell_type": "markdown",
      "metadata": {
        "id": "w6sNfn7Opikf"
      },
      "source": [
        "Tá na hora de começarmos a definir algumas características do nosso código. Por exemplo, com quantos agrupamentos começaremos? Retomando um pouco conceitos vistos em Probest, temos que os dados do MNIST possuem 10 classes, logo, faz sentido começarmos com esse número. Porém, o que são classes?\n",
        "\n",
        "Bem, o termo \"classe\" aqui aplicado se refere a um membro do conjunto de possibilidades que um $X$ (no caso, uma das imagens) pode ser. Ou seja, classe é uma das \"categorias\" a que $X$ pode pertencer e, nessa modelagem, temos $10$ classes possíveis, já que cada imagem pode representar um algarismos de $0$ até $9$."
      ]
    },
    {
      "cell_type": "code",
      "execution_count": null,
      "metadata": {
        "id": "Ju2tmspCpjEv"
      },
      "outputs": [],
      "source": [
        "#Iniciando o nosso modelo utilizando o K-means\n",
        "kmeans = MiniBatchKMeans(n_clusters = 10)"
      ]
    },
    {
      "cell_type": "markdown",
      "metadata": {
        "id": "IZqNSjONvXBM"
      },
      "source": [
        "Agora que temos o nosso modelo (K-means) definido, utilizaremos o método fit. Mas o que esse método é capaz de fazer? Bem em tradução literal, a palavra \"fit\" significa em \"ajustar\" em português. Com essa informação em mente, já temos um grande indicativo de sua funcionalidade. O método fit() serve para apresentar os dados ao nosso modelo, servindo como passo inicial para a realização do treinamento do mesmo. Logo, para todos os efeitos, após a execução do método fit() o modelo estará ajustado e \"preparado\". "
      ]
    },
    {
      "cell_type": "code",
      "execution_count": null,
      "metadata": {
        "colab": {
          "base_uri": "https://localhost:8080/"
        },
        "id": "HkN2QePgvXWt",
        "outputId": "a55f44aa-ee57-4810-9c39-623dd191ed1d"
      },
      "outputs": [
        {
          "output_type": "execute_result",
          "data": {
            "text/plain": [
              "MiniBatchKMeans(n_clusters=10)"
            ]
          },
          "metadata": {},
          "execution_count": 42
        }
      ],
      "source": [
        "kmeans.fit(X)"
      ]
    },
    {
      "cell_type": "markdown",
      "metadata": {
        "id": "wNkOPOAWdHKz"
      },
      "source": [
        "Agora, vamos criar duas funções que serão cruciais em nosso projetos. São elas:\n",
        "\n",
        "####   **labelsAtribuidos(kmeans, labelsAtuais)**\n",
        "Essa função vai ser responsável por retornar dicionário com os labels que foram atribuídos pelo nosso estimador para cada cluster. Ou seja, qual o dígito atribuído pelo nosso modelo no qual ele \"supõem\" que seja responsável por aquele cluster.\n",
        "\n",
        "\n",
        "####   **labelsEsperados(X_labels, labelsDosClusters)**\n",
        "Por sua vez, essa função é capaz de retornar um array com os labels esperados para cada cluster. Em outras palavras, ele retorna o \"gabarito\" daquele cluster, sendo essencial para analisarmos a eficiência de nossos classificadores (veremos mais sobre daqui a pouco)"
      ]
    },
    {
      "cell_type": "code",
      "execution_count": null,
      "metadata": {
        "id": "Fedz874NdHrU"
      },
      "outputs": [],
      "source": [
        "def labelsAtribuidos(kmeans, labelsAtuais):\n",
        "    labels_atribuidos = {}\n",
        "\n",
        "    for i in range(kmeans.n_clusters):\n",
        "\n",
        "        # find index of points in cluster\n",
        "        labels = []\n",
        "        indice = np.where(kmeans.labels_ == i)\n",
        "\n",
        "        # append actual labels for each point in cluster\n",
        "        labels.append(labelsAtuais[indice])\n",
        "\n",
        "        #Determina o label mais comum desse cluster\n",
        "        if len(labels[0]) == 1:\n",
        "            counts = np.bincount(labels[0])\n",
        "        else:\n",
        "            counts = np.bincount(np.squeeze(labels))\n",
        "\n",
        "        # assign the cluster to a value in the inferred_labels dictionary\n",
        "        if np.argmax(counts) in labels_atribuidos:\n",
        "            # append the new number to the existing array at this slot\n",
        "            labels_atribuidos[np.argmax(counts)].append(i)\n",
        "        else:\n",
        "            # create a new array in this slot\n",
        "            labels_atribuidos[np.argmax(counts)] = [i]\n",
        "        \n",
        "    return labels_atribuidos  \n",
        "\n",
        "def labelsEsperados(X_labels, labelsDosClusters):\n",
        "    #Criando um array preenchido com zeros (ou seja, \"vazio\"), com o tamanho necessário\n",
        "    labels_esperados = np.zeros(len(X_labels)).astype(np.uint8)\n",
        "    \n",
        "    for i, cluster in enumerate(X_labels):\n",
        "        for chave, valor in labelsDosClusters.items():\n",
        "            if cluster in valor:\n",
        "                labels_esperados[i] = chave\n",
        "                \n",
        "    return labels_esperados"
      ]
    },
    {
      "cell_type": "markdown",
      "metadata": {
        "id": "0Z2av2ODov0E"
      },
      "source": [
        "Mas como podemos definir a eficiência de nossos modelos K-Means? A grosso modo, podemos responder isso analisando a acurácia de nossos classificadores, porém, outros parâmetros podem ser utilizados para analisarmos o nosso modelo. Como estamos falando de K-Means, temos outros dois parâmetros além da acurácia, são eles: Inércia e Homogeneidade\n",
        "\n",
        "Mas o que são eles? Abaixo, vou explicá-los, junto com a definição de acurácia, como eles funcionam e o quão úteis eles são.\n",
        "\n",
        "\n",
        "\n",
        "###   **Acurácia**\n",
        "\n",
        "Pode ser descrita como o quão próximo um determinado conjunto de medições (observações ou leituras) estão de seu valor real. De forma didática, basta imaginar que a acurácia vai realizar uma comparação entre a \"resposta\" encontrada com o seu respectivo gabarito. Por exemplo, se lembra das funções \"labelsAtribuidos\" e \"labelsEsperados\" criadas anteriormente? Aqui provaremos as suas utilidades. Basta analisar o código abaixo: \n",
        "\n",
        "\n"
      ]
    },
    {
      "cell_type": "code",
      "execution_count": null,
      "metadata": {
        "colab": {
          "base_uri": "https://localhost:8080/"
        },
        "id": "P8p_P2sb7D6T",
        "outputId": "1f8374ee-100c-46f1-cea7-84e562e8804b"
      },
      "outputs": [
        {
          "output_type": "stream",
          "name": "stdout",
          "text": [
            "Expectativa [5 0 4 1 9 2 1 3 1 4 3 5 3 6 1 7 2 8 6 9]\n",
            "Gabarito:  [8 0 9 2 9 8 1 8 1 7 8 1 3 6 1 7 2 8 1 7]\n"
          ]
        }
      ],
      "source": [
        "labelsDosClusters = labelsAtribuidos(kmeans, Y)\n",
        "X_clusters = kmeans.predict(X)\n",
        "gabaritoDosLabels = labelsEsperados(X_clusters, labelsDosClusters)\n",
        "\n",
        "#Limitando a visualização dos vetores, pois eles são grandes demais para serem printados aqui\n",
        "print(\"Expectativa\", Y[:20])\n",
        "print(\"Gabarito: \", gabaritoDosLabels[:20])"
      ]
    },
    {
      "cell_type": "markdown",
      "metadata": {
        "id": "ZMBFltpI76rj"
      },
      "source": [
        "###   **Continuando...**\n",
        "O código acima vai nos mostra a nossa \"Expectativa X Realidade\" e a acurácia basicamente compara esses dois vetores e, com isso, retorna a nossa porcentagem de acerto. Resumidamente, quanto maior a acurácia, maior a eficiência de nosso modelo e mais fiel a veracidade ele será."
      ]
    },
    {
      "cell_type": "markdown",
      "metadata": {
        "id": "6qOvv7s17Hzp"
      },
      "source": [
        "###   **Inércia**\n",
        "\n",
        "  A inércia pode ser reconhecida como uma medida de como os clusters são internamente coerentes. Como pode ser visto na documentação (que pode ser encontrada [aqui](https://scikit--learn-org.translate.goog/stable/modules/generated/sklearn.metrics.homogeneity_score.html?_x_tr_sl=en&_x_tr_tl=pt&_x_tr_hl=pt-BR&_x_tr_pto=wapp)), ela sofre de algumas desvantagens, entre elas, podemos citar que ela não é uma métrica normalizada. Apenas sabemos que valores mais baixos são melhores e zero é o ideal. Mas em espaços de dimensões muito altas, as distâncias euclidianas tendem a se tornar infladas (este é um exemplo da chamada “maldição da dimensionalidade”). A execução de um algoritmo de redução de dimensionalidade, como a análise de componentes principais (PCA) antes do agrupamento k-means, pode aliviar esse problema e acelerar os cálculos.\n",
        "\n",
        "###   **Homogeneidade**\n",
        "Por definição, um modelo crescerá o nível de sua homogeneidade se todos os seus agrupamentos contiverem apenas pontos de dados que são membros de uma classe única.\n",
        "\n",
        "Essa métrica é independente dos valores absolutos dos rótulos: uma permutação dos valores de rótulo de classe ou cluster não alterará o valor de pontuação de forma alguma. Para exemplos mais práticos, basta clicar [aqui](https://scikit-learn.org/stable/modules/generated/sklearn.metrics.homogeneity_score.html) e ver a documentação.\n"
      ]
    },
    {
      "cell_type": "markdown",
      "metadata": {
        "id": "JmqNldqD9NA7"
      },
      "source": [
        "Sabendo das definições e das utilidades dessas métricas, criaremos uma função capaz de exibi-las para o usuário. Por sua vez, elas terão grande valor mais a frente, quando serão realizados testes variando a quantidade de clusters."
      ]
    },
    {
      "cell_type": "code",
      "execution_count": null,
      "metadata": {
        "id": "g0h9SivCowFk"
      },
      "outputs": [],
      "source": [
        "def calculaMetricas(estimador, labels):\n",
        "\n",
        "    print('Número de Clusters: {}'.format(estimador.n_clusters))\n",
        "    print('Inércia: {:.2f}'.format(estimador.inertia_))\n",
        "    print('Homogeneidade: {:.2f}'.format(metrics.homogeneity_score(labels, estimador.labels_)))"
      ]
    },
    {
      "cell_type": "markdown",
      "metadata": {
        "id": "5NiHvYQBo0y8"
      },
      "source": [
        "Tá na hora de testar! O que acontece se irmos aumentando a nossa quantidade de agrupamentos? Afinal, teremos mais formas de dividí-los, melhorando (ao menos, teoricamente) a nossa acurácia. Mas será que isso é realmente uma verdade? Ou é apenas uma suposição infrutífera? \n",
        "\n",
        "Bem, primeiramente definiremos o vetor que vai armazenar os valores que queremos utilizar como quantidade total de clusters:"
      ]
    },
    {
      "cell_type": "code",
      "execution_count": null,
      "metadata": {
        "id": "dMr98kfE1Q56"
      },
      "outputs": [],
      "source": [
        "#Definindo a quantidade de clusters que cada um dos nossos testes vai ter\n",
        "clusters = [10, 16, 32, 64, 128, 256]"
      ]
    },
    {
      "cell_type": "markdown",
      "metadata": {
        "id": "hTYYbPbb-9c8"
      },
      "source": [
        "Agora, abaixo podemos enxergar a função \"testaK_Means\", que será responsável por realizar nossos testes e verificar se a afirmação acima é verdadeira."
      ]
    },
    {
      "cell_type": "code",
      "execution_count": null,
      "metadata": {
        "id": "NKskS25ao1Hc"
      },
      "outputs": [],
      "source": [
        "def testaK_Means(clusters):\n",
        "  for n_clusters in clusters:\n",
        "      #Usando métodos da biblioteca time para calcular o tempo de execução\n",
        "      inicio = time.time()\n",
        "      estimador = MiniBatchKMeans(n_clusters)\n",
        "      estimador.fit(X)\n",
        "      \n",
        "      #Imprime na tela as métricas de nosso modelo\n",
        "      calculaMetricas(estimador, Y)\n",
        "      \n",
        "      labelsDosClusters = labelsAtribuidos(estimador, Y)\n",
        "      gabarito = labelsEsperados(estimador.labels_, labelsDosClusters)\n",
        "      \n",
        "      #Calcula a Acucária e mostra o seu resultado\n",
        "      print('Acurácia: {:.2f}%'.format(metrics.accuracy_score(Y, gabarito) * 100))\n",
        "      fim = time.time()\n",
        "\n",
        "      #Mostra o tempo de execução de cada teste\n",
        "      print('Tempo de execução: {:.3f}s\\n'.format(fim - inicio))"
      ]
    },
    {
      "cell_type": "markdown",
      "metadata": {
        "id": "7znQI2PI_Lss"
      },
      "source": [
        "Por último, basta chamarmos a função, ou seja:"
      ]
    },
    {
      "cell_type": "code",
      "execution_count": null,
      "metadata": {
        "colab": {
          "base_uri": "https://localhost:8080/"
        },
        "id": "IrkKFatJ-1fV",
        "outputId": "370853e0-a4ee-427f-e461-41511e3f9275"
      },
      "outputs": [
        {
          "output_type": "stream",
          "name": "stdout",
          "text": [
            "Número de Clusters: 10\n",
            "Inércia: 2376028.34\n",
            "Homogeneidade: 0.45\n",
            "Acurácia: 53.39%\n",
            "Tempo de execução: 2.052s\n",
            "\n",
            "Número de Clusters: 16\n",
            "Inércia: 2208329.41\n",
            "Homogeneidade: 0.54\n",
            "Acurácia: 63.91%\n",
            "Tempo de execução: 2.713s\n",
            "\n",
            "Número de Clusters: 32\n",
            "Inércia: 1980803.58\n",
            "Homogeneidade: 0.68\n",
            "Acurácia: 75.67%\n",
            "Tempo de execução: 4.378s\n",
            "\n",
            "Número de Clusters: 64\n",
            "Inércia: 1805331.82\n",
            "Homogeneidade: 0.73\n",
            "Acurácia: 80.15%\n",
            "Tempo de execução: 8.200s\n",
            "\n",
            "Número de Clusters: 128\n",
            "Inércia: 1648718.93\n",
            "Homogeneidade: 0.80\n",
            "Acurácia: 86.36%\n",
            "Tempo de execução: 15.117s\n",
            "\n",
            "Número de Clusters: 256\n",
            "Inércia: 1504141.97\n",
            "Homogeneidade: 0.84\n",
            "Acurácia: 89.79%\n",
            "Tempo de execução: 29.408s\n",
            "\n"
          ]
        }
      ],
      "source": [
        "testaK_Means(clusters)"
      ]
    },
    {
      "cell_type": "markdown",
      "source": [
        "###**Brevíssima análise dos Resultados acima**"
      ],
      "metadata": {
        "id": "DJ7OMmzLOtdN"
      }
    },
    {
      "cell_type": "markdown",
      "source": [
        "Anteriormente, definimos 10 clusters como a quantidade ideal, mas como podemos perceber, isso não é exatamente verdade. Com esse valor, obtemos uma acurácia aproximada de $53$%, não muito diferente do que quando utilizamos o algoritmo Naive-Bayes (aprofundado durante a elaboração do Projeto 02 de Probest). Mas porque isso acontece? Como vimos, o K-means é um algoritmo que agrupa os nossos dados em torno de clusters, categorizando-os. Portanto, quanto maior a quantidade de clusters, mais precisa essa classificação será, já que conseguiremos \"destrinchar\" melhor nossos dados e, por consequência, classificá-los da maneira correta. \n",
        "\n",
        "Essa célula é apenas uma análise (brevíssima!!!), mais abaixo retornarei com esse tópico e o aprofundarei."
      ],
      "metadata": {
        "id": "P4jNMBWtOt3E"
      }
    },
    {
      "cell_type": "markdown",
      "source": [
        "###**Observando Visualmente**"
      ],
      "metadata": {
        "id": "jx_17RlHKoTi"
      }
    },
    {
      "cell_type": "markdown",
      "source": [
        "Ok, precisamos ver como é o K-Means visualmente. Mas como podemos fazer isso? Para isso, \"invocaremos\" a biblioteca Matplotlib, e plotaremos um conjunto de imagens retirado do dataset do MNIST junto com a previsão esperado prevista em nosso classificador. Com isso em mente, foi desenvolvido o código abaixo:"
      ],
      "metadata": {
        "id": "ravhZlO8gv_W"
      }
    },
    {
      "cell_type": "code",
      "source": [
        "#Inicializando nosso modelo\n",
        "kmeans = MiniBatchKMeans(n_clusters = 256)\n",
        "kmeans.fit(X)\n",
        "\n",
        "#Registrar valores dos centróides\n",
        "centroides = kmeans.cluster_centers_\n",
        "\n",
        "#Redefinindo centroides para as imagens\n",
        "imagens = centroides.reshape(256, 28, 28)\n",
        "imagens *= 255\n",
        "imagens = imagens.astype(np.uint8)\n",
        "\n",
        "#Pegando os labels atribuidos pelo nosso modelo\n",
        "labelDosClusters = labelsAtribuidos(kmeans, Y)\n",
        "\n",
        "#Criando uma figura com os subplots gerados pela matplotlib.pyplot\n",
        "fig, axs = plt.subplots(6, 6, figsize = (20, 20))\n",
        "plt.gray()\n",
        "\n",
        "for i, ax in enumerate(axs.flat):\n",
        "    \n",
        "    for chave, valor in labelDosClusters.items():\n",
        "        if i in valor:\n",
        "            ax.set_title('Label Atribuído: {}'.format(chave))\n",
        "\n",
        "    #Adiciona na imagem, o subplot\n",
        "    ax.matshow(imagens[i])\n",
        "    ax.axis('off')\n",
        "    \n",
        "#Printa a imagem\n",
        "fig.show()"
      ],
      "metadata": {
        "colab": {
          "base_uri": "https://localhost:8080/",
          "height": 1000
        },
        "id": "I1P1qs3l0JxT",
        "outputId": "50736207-5aa2-4de4-8dd5-a4ebf90f3d67"
      },
      "execution_count": null,
      "outputs": [
        {
          "output_type": "display_data",
          "data": {
            "text/plain": [
              "<Figure size 1440x1440 with 36 Axes>"
            ],
            "image/png": "[encoded data removed]"
          },
          "metadata": {
            "needs_background": "light"
          }
        }
      ]
    },
    {
      "cell_type": "markdown",
      "metadata": {
        "id": "e_a-YWdt_tik"
      },
      "source": [
        "###Resultados Finais\n"
      ]
    },
    {
      "cell_type": "markdown",
      "metadata": {
        "id": "TOL_kzahACAk"
      },
      "source": [
        "No trabalho \"Projeto 02\" de Estatística e Probabilidade, fomos convidados a conhecer o classificador de Naive Bayes Gaussian (em tradução livre, Bayes Ingênuo Gaussiano). Matemáticamente falando, ele se caracteriza por ser simples de entender e ser um bom meio de realizar uma \"introdução\" no universo de aprendizado de máquina. No entanto, como foi visto no decorrer da resolução do respectivo projeto (disponível [aqui](https://colab.research.google.com/drive/1SG3IYtUs367RPgQBBshvUc_02vWM_Ttf?usp=sharing)), ele partia de premissas que eram apenas assumidas, ou seja, não eram necessariamente verdadeiras, o que causava uma eficácia relativamente baixa, em torno de $55-56$%. Porém, justamente por ser de caráter mais simplista que os demais algoritmos e modelos de classificadores, ele era capaz de obter essa acurácia em um número baixíssimo de tempo, sendo ideal em ambientes com poucos recursos computacionais disponíveis, ou se não, quando o tempo é um fator chave para a obtenção de um resultado. \n",
        "\n",
        "Paralelamente a isso, esse Colab buscou explicar e demonstrar o algoritmo de K-Means e, como podemos perceber analisando os resultados acima realizados em nossos testes com diferentes tamanhos de clusters, podemos chegar aos seguintes resultados:\n",
        "\n",
        "*   Mesmo com um baixo número de clusters, o algoritmo é capaz de demonstrar uma acurácia mais elevada e, além disso, em um tempo extremamente curto.\n",
        "*   Ao aumentarmos a quantidade de agrupamentos, a eficiência também aumentará, elevando o tempo de execução. No entanto, em um número \"não tão alto\" de clusters, conseguimos um bom retorno em um período de tempo razóavel, se caracterizando como uma boa alternativa a depender dos limites operacionais e computacionas que nos depararmos.\n",
        "*   A eficiência começa a aumentar em um ritmo mais lento de acordo com a elevação do número de clusters. Dessa forma, quando colocamos números extremamente grandes, a acurácia sobe, porém o tempo gasto aumenta consideravelmente, deixando a execução mais pesada. Assim, para alcançarmos números capazes de chegarem perto dos $100$% de eficiência, teríamos que dispor de uma quantidade mais elevada de tempo."
      ]
    },
    {
      "cell_type": "markdown",
      "metadata": {
        "id": "A13l_kRy2P9P"
      },
      "source": [
        "###Referências Bibliográficas"
      ]
    },
    {
      "cell_type": "markdown",
      "metadata": {
        "id": "cqZPkJ31w3lZ"
      },
      "source": [
        "https://www.letscode.com.br/blog/visao-computacional-como-o-computador-ve-uma-imagem\n",
        "\n",
        "https://github.com/sharmaroshan/MNIST-Using-K-means\n",
        "\n",
        "https://medium.com/programadores-ajudando-programadores/k-means-o-que-%C3%A9-como-funciona-aplica%C3%A7%C3%B5es-e-exemplo-em-python-6021df6e2572\n",
        "\n",
        "https://scikit-learn.org/stable/modules/clustering.html\n",
        "\n",
        "https://scikit-learn.org/stable/modules/generated/sklearn.metrics.homogeneity_score.html\n"
      ]
    },
    {
      "cell_type": "markdown",
      "metadata": {
        "id": "XvxQT1vP2U4U"
      },
      "source": [
        "###Agradecimentos"
      ]
    },
    {
      "cell_type": "markdown",
      "metadata": {
        "id": "1Oej9nzPsS6l"
      },
      "source": [
        "Gostaria de utilizar esse espaço para ressaltar meus agradecimentos aos seguintes professores:\n",
        "\n",
        "*   Hugo Tremonte de Carvalho\n",
        "*   João Antônio Recio da Paixão\n",
        "\n",
        "Que puderam me fornecer outra perspectiva da Computação, me garantindo um grande aprendizado desenvolvendo esses projetos.\n",
        "\n",
        "Agora, falando em colegas de turma, gostaria de agradecer em especial a:\n",
        "*   David Rodrigues Albuquerque\n",
        "\n",
        "Por me auxiliar trocando ideias e explicando alguns conceitos durante a elaboração desse Colab.\n",
        "\n",
        "Por fim, espero ter conseguido articular bem os conceitos, pois os mesmos não são fáceis. Dessa forma, venho por meio deste terminar com uma breve frase de um grande brasileiro que merece ser mais valorizado pela sua trajetória pela educação que gosto de carregar em meu pensamento:\n",
        "\n",
        "#***“Coragem! Mais vale errar, se arrebentando, do que poupar-se para nada.” - Ribeiro, Darcy***"
      ]
    }
  ],
  "metadata": {
    "colab": {
      "provenance": []
    },
    "kernelspec": {
      "display_name": "Python 3",
      "name": "python3"
    },
    "language_info": {
      "name": "python"
    }
  },
  "nbformat": 4,
  "nbformat_minor": 0
}