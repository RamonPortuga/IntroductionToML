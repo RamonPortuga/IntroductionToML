{
 "cells": [
  {
   "attachments": {},
   "cell_type": "markdown",
   "metadata": {},
   "source": [
    "#### Nome: Ramon Oliveira de Azevedo\n",
    "#### DRE: 120023419\n",
    "#### 7° Período\n",
    "#### Ciência da Computação"
   ]
  },
  {
   "attachments": {},
   "cell_type": "markdown",
   "metadata": {},
   "source": [
    "# Projeto de Introdução ao Aprendizado de Máquina - Professor João Carlos Pereira da Silva"
   ]
  },
  {
   "attachments": {},
   "cell_type": "markdown",
   "metadata": {},
   "source": [
    "# <center>Análise de Dados com Regressão Linear</center>"
   ]
  },
  {
   "attachments": {},
   "cell_type": "markdown",
   "metadata": {},
   "source": [
    "## Sumário\n",
    "\n",
    "*   Apresentação do projeto e objetivo\n",
    "*   A Base de Dados\n",
    "*   Implementação\n",
    "*   Referências Bibliográficas\n",
    "*   Agradecimentos"
   ]
  },
  {
   "attachments": {},
   "cell_type": "markdown",
   "metadata": {},
   "source": [
    "### Implementação"
   ]
  },
  {
   "attachments": {},
   "cell_type": "markdown",
   "metadata": {},
   "source": [
    "##### Começando do básico, vamos importar as bibliotecas"
   ]
  },
  {
   "cell_type": "code",
   "execution_count": 828,
   "metadata": {},
   "outputs": [],
   "source": [
    "import pandas as pd\n",
    "import numpy as np\n",
    "import sys\n",
    "import scipy\n",
    "import math\n",
    "import matplotlib.pyplot as plt\n",
    "from scipy import stats\n",
    "from scipy.stats import iqr\n",
    "from sklearn import linear_model\n",
    "from sklearn.model_selection import train_test_split"
   ]
  },
  {
   "attachments": {},
   "cell_type": "markdown",
   "metadata": {},
   "source": [
    "##### Como esse trabalho servirá como portfólio pessoal, vale deixar explícito as versões que aqui serão trabalhadas:"
   ]
  },
  {
   "cell_type": "code",
   "execution_count": 829,
   "metadata": {},
   "outputs": [
    {
     "name": "stdout",
     "output_type": "stream",
     "text": [
      "Python: 3.9.13 (main, Aug 25 2022, 23:51:50) [MSC v.1916 64 bit (AMD64)]\n",
      "Scipy: 1.9.1\n",
      "Pandas: 1.4.4\n",
      "NumPy: 1.21.5\n"
     ]
    }
   ],
   "source": [
    "print('Python: {}'.format(sys.version))\n",
    "print('Scipy: {}'.format(scipy.__version__))\n",
    "print('Pandas: {}'.format(pd.__version__))\n",
    "print('NumPy: {}'.format(np.__version__))"
   ]
  },
  {
   "attachments": {},
   "cell_type": "markdown",
   "metadata": {},
   "source": [
    "##### Dando início, iremos transformar a nossa database, que é um arquivo CSV, em um objeto do tipo dataframe, utilizando a biblioteca Pandas."
   ]
  },
  {
   "cell_type": "code",
   "execution_count": 830,
   "metadata": {},
   "outputs": [],
   "source": [
    "#Fazer a função de cálculo de RSS aqui\n",
    "def calculateRSS(y, y_pred):\n",
    "    sumRss = [(pivot[0] - pivot[1]) ** 2 for pivot in zip(y, y_pred)]\n",
    "    rss = np.sum(sumRss)\n",
    "    return rss"
   ]
  },
  {
   "cell_type": "code",
   "execution_count": 831,
   "metadata": {},
   "outputs": [],
   "source": [
    "#Fazer a função de cálculo de RSE aqui\n",
    "def calculateRSE(rss, y):\n",
    "    rse = math.sqrt(np.sum(rss) / (len(y) - 2))\n",
    "    return rse"
   ]
  },
  {
   "cell_type": "code",
   "execution_count": 832,
   "metadata": {},
   "outputs": [],
   "source": [
    "#def calculateTheta0():"
   ]
  },
  {
   "cell_type": "code",
   "execution_count": 833,
   "metadata": {},
   "outputs": [],
   "source": [
    "#def calculateTheta1():"
   ]
  },
  {
   "cell_type": "code",
   "execution_count": 834,
   "metadata": {},
   "outputs": [],
   "source": [
    "def dataPreProcessing(pivot_test):\n",
    "    #boxplot = X_test.boxplot\n",
    "    #print('Quantidade de linhas no original: ', len(pivot_test))\n",
    "\n",
    "    # Remover linhas com NaN\n",
    "    pivot_test = pivot_test.dropna(axis = 0)\n",
    "\n",
    "    # Remover colunas com NaN\n",
    "    #pivot_test = pivot_test.dropna(axis = 1)\n",
    "\n",
    "    #print('Quantidade de linhas com exclusão NaN: ', len(pivot_test))\n",
    "    \n",
    "\n",
    "    # Média Simples\n",
    "    mediaSimples = np.mean(pivot_test, axis = 0)\n",
    "\n",
    "    #Mediana\n",
    "    medianaNotas = np.median(pivot_test)\n",
    "\n",
    "    # Moda\n",
    "    moda = stats.mode(pivot_test, keepdims=True)\n",
    "\n",
    "    #print('Média Simples: ', mediaSimples)\n",
    "    #print('Mediana: ', medianaNotas)\n",
    "    #print('Moda - Elemento: ', moda[0][0])\n",
    "    #print('Moda - Frequência: ', moda[1][0])\n",
    "\n",
    "    Q1numpy = np.percentile(pivot_test, 25)\n",
    "    Q2numpy = np.percentile(pivot_test, 50)\n",
    "    Q3numpy = np.percentile(pivot_test, 75)\n",
    "\n",
    "    #print('Primeiro quartil: ', Q1numpy)\n",
    "    #print('Segundo quartil: ', Q2numpy)\n",
    "    #print('Terceiro quartil: ', Q3numpy)\n",
    "\n",
    "    IQR = iqr(pivot_test)\n",
    "\n",
    "    #print('IQR: ', iqr(pivot_test))\n",
    "\n",
    "    #print(\"\\n\\n\\n\")\n",
    "\n",
    "    #boxplot = pivot_test.boxplot(column=['newspaper'])\n",
    "    pivot_test.hist(column=['newspaper'])\n",
    "    plt.show(hist)\n"
   ]
  },
  {
   "cell_type": "code",
   "execution_count": 835,
   "metadata": {},
   "outputs": [],
   "source": [
    "def returnsInformations(df):\n",
    "    X, y = df.iloc[:, :-1], df.iloc[:, -1]\n",
    "\n",
    "    X_train, X_test, y_train, y_test = train_test_split(X, y, test_size=0.70)\n",
    "\n",
    "    dataPreProcessing(X_test)\n",
    "    #dataPreProcessing(y_train)\n",
    "\n",
    "    reg = linear_model.LinearRegression()\n",
    "\n",
    "    reg.fit(X_train, y_train)\n",
    "\n",
    "    y_pred = reg.predict(X_test)\n",
    "\n",
    "    coefficient = reg.coef_\n",
    "    intercept = reg.intercept_\n",
    "    #equationFirstVariable = reg.coef_[0][0]\n",
    "    #equationSecondVariable = reg.intercept_[0]\n",
    "    #rss = calculateRSS(y, y_pred)\n",
    "    #rse = calculateRSE(rss, y)\n",
    "    equationFirstVariable = 0\n",
    "    equationSecondVariable = 0\n",
    "    rss = 0\n",
    "    rse = 0\n",
    "    theta0 = 0\n",
    "    theta1 = 0\n",
    "    rSquared = reg.score(X, y)\n",
    "\n",
    "    return coefficient, intercept, equationFirstVariable, equationSecondVariable, rss, rse, theta0, theta1, rSquared"
   ]
  },
  {
   "cell_type": "code",
   "execution_count": 836,
   "metadata": {},
   "outputs": [],
   "source": [
    "def fillDataframe(df):\n",
    "    rows = []\n",
    "    for i in range (0, 30):\n",
    "        rows.append(returnsInformations(df))\n",
    "    df = pd.DataFrame(rows, columns=['Coefficient', 'Intercept', 'Equation First Variable', 'Equation Second Variable', 'RSS', 'RSE', 'SE theta0', 'SE theta1', 'rSquared'])\n",
    "    return df"
   ]
  },
  {
   "cell_type": "code",
   "execution_count": 837,
   "metadata": {},
   "outputs": [],
   "source": [
    "df = pd.read_csv('Advertising.csv', on_bad_lines='skip')\n",
    "#print(fillDataframe(df))"
   ]
  },
  {
   "cell_type": "code",
   "execution_count": 838,
   "metadata": {},
   "outputs": [],
   "source": [
    "#Fazer a função de cálculo de SETheta0 aqui\n",
    "def calculateSETheta0(X):\n",
    "    average = np.mean(X)\n",
    "    variance = np.std(X) ** 2\n",
    "    sum = [(pivot[0] - pivot[1]) ** 2 for pivot in zip(X, average)]"
   ]
  },
  {
   "cell_type": "code",
   "execution_count": 839,
   "metadata": {},
   "outputs": [],
   "source": [
    "#Fazer a função de cálculo de SETheta1 aqui"
   ]
  },
  {
   "cell_type": "code",
   "execution_count": 840,
   "metadata": {},
   "outputs": [],
   "source": [
    "#Fazer a função de cálculo de preencher no dataframe aqui"
   ]
  }
 ],
 "metadata": {
  "kernelspec": {
   "display_name": "base",
   "language": "python",
   "name": "python3"
  },
  "language_info": {
   "codemirror_mode": {
    "name": "ipython",
    "version": 3
   },
   "file_extension": ".py",
   "mimetype": "text/x-python",
   "name": "python",
   "nbconvert_exporter": "python",
   "pygments_lexer": "ipython3",
   "version": "3.9.13"
  },
  "orig_nbformat": 4
 },
 "nbformat": 4,
 "nbformat_minor": 2
}
