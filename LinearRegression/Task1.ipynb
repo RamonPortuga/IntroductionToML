{
 "cells": [
  {
   "attachments": {},
   "cell_type": "markdown",
   "metadata": {},
   "source": [
    "#### Nome: Ramon Oliveira de Azevedo\n",
    "#### DRE: 120023419\n",
    "#### 7° Período\n",
    "#### Ciência da Computação"
   ]
  },
  {
   "attachments": {},
   "cell_type": "markdown",
   "metadata": {},
   "source": [
    "# Projeto de Introdução ao Aprendizado de Máquina - Professor João Carlos Pereira da Silva"
   ]
  },
  {
   "attachments": {},
   "cell_type": "markdown",
   "metadata": {},
   "source": [
    "# <center>Análise de Dados com Regressão Linear</center>"
   ]
  },
  {
   "attachments": {},
   "cell_type": "markdown",
   "metadata": {},
   "source": [
    "## Sumário\n",
    "\n",
    "*   Apresentação do projeto e objetivo\n",
    "*   A Base de Dados\n",
    "*   Implementação\n",
    "*   Referências Bibliográficas\n",
    "*   Agradecimentos"
   ]
  },
  {
   "attachments": {},
   "cell_type": "markdown",
   "metadata": {},
   "source": [
    "### Implementação"
   ]
  },
  {
   "attachments": {},
   "cell_type": "markdown",
   "metadata": {},
   "source": [
    "##### Começando do básico, vamos importar as bibliotecas"
   ]
  },
  {
   "cell_type": "code",
   "execution_count": 344,
   "metadata": {},
   "outputs": [],
   "source": [
    "import pandas as pd\n",
    "import numpy as np\n",
    "import sys\n",
    "import scipy\n",
    "import math\n",
    "from scipy import stats\n",
    "from scipy.stats import iqr\n",
    "from sklearn import linear_model"
   ]
  },
  {
   "attachments": {},
   "cell_type": "markdown",
   "metadata": {},
   "source": [
    "##### Como esse trabalho servirá como portfólio pessoal, vale deixar explícito as versões que aqui serão trabalhadas:"
   ]
  },
  {
   "cell_type": "code",
   "execution_count": 345,
   "metadata": {},
   "outputs": [
    {
     "name": "stdout",
     "output_type": "stream",
     "text": [
      "Python: 3.9.13 (main, Aug 25 2022, 23:51:50) [MSC v.1916 64 bit (AMD64)]\n",
      "Scipy: 1.9.1\n",
      "Pandas: 1.4.4\n",
      "NumPy: 1.21.5\n"
     ]
    }
   ],
   "source": [
    "print('Python: {}'.format(sys.version))\n",
    "print('Scipy: {}'.format(scipy.__version__))\n",
    "print('Pandas: {}'.format(pd.__version__))\n",
    "print('NumPy: {}'.format(np.__version__))"
   ]
  },
  {
   "attachments": {},
   "cell_type": "markdown",
   "metadata": {},
   "source": [
    "##### Dando início, iremos transformar a nossa database, que é um arquivo CSV, em um objeto do tipo dataframe, utilizando a biblioteca Pandas."
   ]
  },
  {
   "cell_type": "code",
   "execution_count": 346,
   "metadata": {},
   "outputs": [],
   "source": [
    "#Fazer a função de cálculo de RSS aqui\n",
    "def calculateRSS(y, y_pred):\n",
    "    sumRss = [(pivot[0] - pivot[1]) ** 2 for pivot in zip(y, y_pred)]\n",
    "    rss = np.sum(sumRss)\n",
    "    return rss"
   ]
  },
  {
   "cell_type": "code",
   "execution_count": 347,
   "metadata": {},
   "outputs": [],
   "source": [
    "#Fazer a função de cálculo de RSE aqui\n",
    "def calculateRSE(rss, y):\n",
    "    rse = math.sqrt(np.sum(rss) / (len(y) - 2))\n",
    "    return rse"
   ]
  },
  {
   "cell_type": "code",
   "execution_count": 348,
   "metadata": {},
   "outputs": [
    {
     "ename": "IndentationError",
     "evalue": "expected an indented block (1978132549.py, line 1)",
     "output_type": "error",
     "traceback": [
      "\u001b[1;36m  File \u001b[1;32m\"C:\\Users\\ramon\\AppData\\Local\\Temp\\ipykernel_13108\\1978132549.py\"\u001b[1;36m, line \u001b[1;32m1\u001b[0m\n\u001b[1;33m    def calculateTheta0():\u001b[0m\n\u001b[1;37m                          ^\u001b[0m\n\u001b[1;31mIndentationError\u001b[0m\u001b[1;31m:\u001b[0m expected an indented block\n"
     ]
    }
   ],
   "source": [
    "#def calculateTheta0():"
   ]
  },
  {
   "cell_type": "code",
   "execution_count": null,
   "metadata": {},
   "outputs": [],
   "source": [
    "#def calculateTheta1():"
   ]
  },
  {
   "cell_type": "code",
   "execution_count": null,
   "metadata": {},
   "outputs": [],
   "source": [
    "def returnsInformations(df, test_size, train_size):\n",
    "    train = df.sample(test_size)\n",
    "    test = pd.concat([df,train]).drop_duplicates(keep=False)\n",
    "    test = test.sample(train_size)\n",
    "    X = train['TV'].values.reshape(-1,1)\n",
    "    y = train['sales'].values.reshape(-1,1)\n",
    "\n",
    "    X_test = test['TV'].values.reshape(-1,1)\n",
    "\n",
    "    reg = linear_model.LinearRegression()\n",
    "\n",
    "    reg.fit(X,y)\n",
    "\n",
    "    y_pred = reg.predict(X_test)\n",
    "\n",
    "    coefficient = reg.coef_\n",
    "    intercept = reg.intercept_\n",
    "    equationFirstVariable = reg.coef_[0][0]\n",
    "    equationSecondVariable = reg.intercept_[0]\n",
    "    rss = calculateRSS(y, y_pred)\n",
    "    rse = calculateRSE(rss, y)\n",
    "    theta0 = 0\n",
    "    theta1 = 0\n",
    "    rSquared = reg.score(X, y)\n",
    "\n",
    "    return coefficient, intercept, equationFirstVariable, equationSecondVariable, rss, rse, theta0, theta1, rSquared\n"
   ]
  },
  {
   "cell_type": "code",
   "execution_count": null,
   "metadata": {},
   "outputs": [],
   "source": [
    "def fillDataframe(df):\n",
    "    rows = []\n",
    "    for i in range (0, 30):\n",
    "        rows_size = df.shape[0]\n",
    "        test_size = int(rows_size * 0.7)\n",
    "        train_size = int(rows_size * 0.3)\n",
    "        rows.append(returnsInformations(df, test_size, train_size))\n",
    "    df = pd.DataFrame(rows, columns=['Coefficient', 'Intercept', 'Equation First Variable', 'Equation Second Variable', 'RSS', 'RSE', 'SE theta0', 'SE theta1', 'rSquared'])\n",
    "    return df"
   ]
  },
  {
   "cell_type": "code",
   "execution_count": null,
   "metadata": {},
   "outputs": [
    {
     "name": "stdout",
     "output_type": "stream",
     "text": [
      "                 Coefficient             Intercept  Equation First Variable  \\\n",
      "0    [[0.04753248480337889]]   [7.014582944929927]                 0.047532   \n",
      "1   [[0.048733714252185305]]   [6.910724112657614]                 0.048734   \n",
      "2    [[0.04783514556721163]]   [6.948986050405561]                 0.047835   \n",
      "3    [[0.04480858435646905]]   [7.348822035030172]                 0.044809   \n",
      "4   [[0.047707365334470515]]    [7.04634511439749]                 0.047707   \n",
      "5    [[0.04575931482108068]]   [7.112581764180819]                 0.045759   \n",
      "6    [[0.04357954260937463]]   [7.644383136656191]                 0.043580   \n",
      "7   [[0.046604230863811935]]   [6.924567900088103]                 0.046604   \n",
      "8    [[0.04785386069756743]]   [6.878152864142155]                 0.047854   \n",
      "9    [[0.04515762528495246]]  [7.2855694985850175]                 0.045158   \n",
      "10   [[0.04603820474808773]]   [7.019153622251476]                 0.046038   \n",
      "11  [[0.049347762620166866]]   [6.816211741115856]                 0.049348   \n",
      "12  [[0.045607881973024816]]   [7.259368721976461]                 0.045608   \n",
      "13   [[0.04588549447747596]]   [7.094818662833664]                 0.045885   \n",
      "14   [[0.04654263236833358]]   [7.164336996794931]                 0.046543   \n",
      "15   [[0.04909920993648588]]   [6.843266646814343]                 0.049099   \n",
      "16   [[0.04460218232536861]]   [7.579124923631825]                 0.044602   \n",
      "17  [[0.048202425728106395]]   [7.081716268590832]                 0.048202   \n",
      "18   [[0.04560846894557246]]  [7.1176171863228745]                 0.045608   \n",
      "19   [[0.04529442555245346]]   [7.439333249099736]                 0.045294   \n",
      "20   [[0.05130597846205495]]   [6.513490234033023]                 0.051306   \n",
      "21   [[0.04577645136699729]]   [7.328372831960167]                 0.045776   \n",
      "22  [[0.048523331001259676]]  [6.8816074080938625]                 0.048523   \n",
      "23   [[0.04829140232287726]]   [6.698621398306249]                 0.048291   \n",
      "24  [[0.047842834720550856]]   [6.916486578932812]                 0.047843   \n",
      "25    [[0.0489363412338144]]   [6.736265452660678]                 0.048936   \n",
      "26  [[0.047741746339936934]]  [7.1494484141021175]                 0.047742   \n",
      "27   [[0.05117905210438109]]   [6.805798372263545]                 0.051179   \n",
      "28   [[0.04903675839043568]]   [6.891501512435981]                 0.049037   \n",
      "29   [[0.04829920534058438]]   [6.827678638201673]                 0.048299   \n",
      "\n",
      "    Equation Second Variable          RSS       RSE  theta0  theta1  rSquared  \n",
      "0                   7.014583  2512.600673  4.266996       0       0  0.634557  \n",
      "1                   6.910724  2296.400178  4.079287       0       0  0.645150  \n",
      "2                   6.948986  2556.191332  4.303850       0       0  0.631767  \n",
      "3                   7.348822  2791.729819  4.497769       0       0  0.582450  \n",
      "4                   7.046345  2884.501312  4.571891       0       0  0.618740  \n",
      "5                   7.112582  2436.760409  4.202105       0       0  0.587898  \n",
      "6                   7.644383  1998.301421  3.805318       0       0  0.569732  \n",
      "7                   6.924568  2275.052374  4.060282       0       0  0.605331  \n",
      "8                   6.878153  2674.746931  4.402525       0       0  0.626420  \n",
      "9                   7.285569  2702.462278  4.425275       0       0  0.574409  \n",
      "10                  7.019154  2399.723795  4.170048       0       0  0.618009  \n",
      "11                  6.816212  2662.948161  4.392804       0       0  0.650117  \n",
      "12                  7.259369  2745.303739  4.460214       0       0  0.557543  \n",
      "13                  7.094819  2455.410269  4.218155       0       0  0.580990  \n",
      "14                  7.164337  1912.883777  3.723100       0       0  0.617175  \n",
      "15                  6.843267  2578.719464  4.322774       0       0  0.612244  \n",
      "16                  7.579125  2413.270503  4.181802       0       0  0.572182  \n",
      "17                  7.081716  2868.615747  4.559284       0       0  0.603162  \n",
      "18                  7.117617  2447.001774  4.210926       0       0  0.590345  \n",
      "19                  7.439333  2579.134485  4.323122       0       0  0.594568  \n",
      "20                  6.513490  3986.405748  5.374663       0       0  0.630057  \n",
      "21                  7.328373  2085.127474  3.887109       0       0  0.586485  \n",
      "22                  6.881607  2941.133601  4.616553       0       0  0.624769  \n",
      "23                  6.698621  1941.233208  3.750588       0       0  0.625972  \n",
      "24                  6.916487  2864.668200  4.556146       0       0  0.599947  \n",
      "25                  6.736265  3279.396903  4.874807       0       0  0.633121  \n",
      "26                  7.149448  2049.952365  3.854183       0       0  0.608631  \n",
      "27                  6.805798  2683.060005  4.409361       0       0  0.656440  \n",
      "28                  6.891502  2422.373985  4.189682       0       0  0.620427  \n",
      "29                  6.827679  1647.288130  3.454978       0       0  0.632411  \n"
     ]
    }
   ],
   "source": [
    "df = pd.read_csv('Advertising.csv', on_bad_lines='skip')\n",
    "print(fillDataframe(df))"
   ]
  },
  {
   "cell_type": "code",
   "execution_count": null,
   "metadata": {},
   "outputs": [],
   "source": [
    "#Fazer a função de cálculo de SETheta0 aqui\n",
    "def calculateSETheta0(X):\n",
    "    average = np.mean(X)\n",
    "    variance = np.std(X) ** 2\n",
    "    sum = [(pivot[0] - pivot[1]) ** 2 for pivot in zip(X, average)]"
   ]
  },
  {
   "cell_type": "code",
   "execution_count": null,
   "metadata": {},
   "outputs": [],
   "source": [
    "#Fazer a função de cálculo de SETheta1 aqui"
   ]
  },
  {
   "cell_type": "code",
   "execution_count": null,
   "metadata": {},
   "outputs": [],
   "source": [
    "#Fazer a função de cálculo de preencher no dataframe aqui"
   ]
  }
 ],
 "metadata": {
  "kernelspec": {
   "display_name": "base",
   "language": "python",
   "name": "python3"
  },
  "language_info": {
   "codemirror_mode": {
    "name": "ipython",
    "version": 3
   },
   "file_extension": ".py",
   "mimetype": "text/x-python",
   "name": "python",
   "nbconvert_exporter": "python",
   "pygments_lexer": "ipython3",
   "version": "3.9.13"
  },
  "orig_nbformat": 4
 },
 "nbformat": 4,
 "nbformat_minor": 2
}
