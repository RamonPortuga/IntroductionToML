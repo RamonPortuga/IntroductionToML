{
 "cells": [
  {
   "attachments": {},
   "cell_type": "markdown",
   "metadata": {},
   "source": [
    "#### Nome: Ramon Oliveira de Azevedo\n",
    "#### DRE: 120023419\n",
    "#### 7° Período\n",
    "#### Ciência da Computação"
   ]
  },
  {
   "attachments": {},
   "cell_type": "markdown",
   "metadata": {},
   "source": [
    "# Projeto de Introdução ao Aprendizado de Máquina - Professor João Carlos Pereira da Silva"
   ]
  },
  {
   "attachments": {},
   "cell_type": "markdown",
   "metadata": {},
   "source": [
    "# <center>Análise de Dados com Regressão Linear</center>"
   ]
  },
  {
   "attachments": {},
   "cell_type": "markdown",
   "metadata": {},
   "source": [
    "## Sumário\n",
    "\n",
    "*   Apresentação do projeto e objetivo\n",
    "*   A Base de Dados\n",
    "*   Implementação\n",
    "*   Referências Bibliográficas\n",
    "*   Agradecimentos"
   ]
  },
  {
   "attachments": {},
   "cell_type": "markdown",
   "metadata": {},
   "source": [
    "### Implementação"
   ]
  },
  {
   "attachments": {},
   "cell_type": "markdown",
   "metadata": {},
   "source": [
    "##### Começando do básico, vamos importar as bibliotecas"
   ]
  },
  {
   "cell_type": "code",
   "execution_count": 1,
   "metadata": {},
   "outputs": [],
   "source": [
    "import pandas as pd\n",
    "import numpy as np\n",
    "import sys\n",
    "import scipy\n",
    "import math\n",
    "from scipy import stats\n",
    "from scipy.stats import iqr\n",
    "from sklearn import linear_model"
   ]
  },
  {
   "attachments": {},
   "cell_type": "markdown",
   "metadata": {},
   "source": [
    "##### Como esse trabalho servirá como portfólio pessoal, vale deixar explícito as versões que aqui serão trabalhadas:"
   ]
  },
  {
   "cell_type": "code",
   "execution_count": 2,
   "metadata": {},
   "outputs": [
    {
     "name": "stdout",
     "output_type": "stream",
     "text": [
      "Python: 3.9.13 (main, Aug 25 2022, 23:51:50) [MSC v.1916 64 bit (AMD64)]\n",
      "Scipy: 1.9.1\n",
      "Pandas: 1.4.4\n",
      "NumPy: 1.21.5\n"
     ]
    }
   ],
   "source": [
    "print('Python: {}'.format(sys.version))\n",
    "print('Scipy: {}'.format(scipy.__version__))\n",
    "print('Pandas: {}'.format(pd.__version__))\n",
    "print('NumPy: {}'.format(np.__version__))"
   ]
  },
  {
   "attachments": {},
   "cell_type": "markdown",
   "metadata": {},
   "source": [
    "##### Dando início, iremos transformar a nossa database, que é um arquivo CSV, em um objeto do tipo dataframe, utilizando a biblioteca Pandas."
   ]
  },
  {
   "cell_type": "code",
   "execution_count": 3,
   "metadata": {},
   "outputs": [],
   "source": [
    "#Fazer a função de cálculo de RSS aqui\n",
    "def calculateRSS(y, y_pred):\n",
    "    sumRss = [(pivot[0] - pivot[1]) ** 2 for pivot in zip(y, y_pred)]\n",
    "    rss = np.sum(sumRss)\n",
    "    return rss"
   ]
  },
  {
   "cell_type": "code",
   "execution_count": 4,
   "metadata": {},
   "outputs": [],
   "source": [
    "#Fazer a função de cálculo de RSE aqui\n",
    "def calculateRSE(rss, y):\n",
    "    rse = math.sqrt(np.sum(rss) / (len(y) - 2))\n",
    "    return rse"
   ]
  },
  {
   "cell_type": "code",
   "execution_count": 5,
   "metadata": {},
   "outputs": [],
   "source": [
    "#def calculateTheta0():"
   ]
  },
  {
   "cell_type": "code",
   "execution_count": 6,
   "metadata": {},
   "outputs": [],
   "source": [
    "#def calculateTheta1():"
   ]
  },
  {
   "cell_type": "code",
   "execution_count": 7,
   "metadata": {},
   "outputs": [],
   "source": [
    "def returnsInformations(df, test_size, train_size):\n",
    "    train = df.sample(test_size)\n",
    "    test = pd.concat([df,train]).drop_duplicates(keep=False)\n",
    "    test = test.sample(train_size)\n",
    "    X = train['TV'].values.reshape(-1,1)\n",
    "    y = train['sales'].values.reshape(-1,1)\n",
    "\n",
    "    X_test = test['TV'].values.reshape(-1,1)\n",
    "\n",
    "    reg = linear_model.LinearRegression()\n",
    "\n",
    "    reg.fit(X,y)\n",
    "\n",
    "    y_pred = reg.predict(X_test)\n",
    "\n",
    "    coefficient = reg.coef_\n",
    "    intercept = reg.intercept_\n",
    "    equationFirstVariable = reg.coef_[0][0]\n",
    "    equationSecondVariable = reg.intercept_[0]\n",
    "    rss = calculateRSS(y, y_pred)\n",
    "    rse = calculateRSE(rss, y)\n",
    "    theta0 = 0\n",
    "    theta1 = 0\n",
    "    rSquared = reg.score(X, y)\n",
    "\n",
    "    return coefficient, intercept, equationFirstVariable, equationSecondVariable, rss, rse, theta0, theta1, rSquared\n"
   ]
  },
  {
   "cell_type": "code",
   "execution_count": 8,
   "metadata": {},
   "outputs": [],
   "source": [
    "def fillDataframe(df):\n",
    "    rows = []\n",
    "    for i in range (0, 30):\n",
    "        rows_size = df.shape[0]\n",
    "        test_size = int(rows_size * 0.7)\n",
    "        train_size = int(rows_size * 0.3)\n",
    "        rows.append(returnsInformations(df, test_size, train_size))\n",
    "    df = pd.DataFrame(rows, columns=['Coefficient', 'Intercept', 'Equation First Variable', 'Equation Second Variable', 'RSS', 'RSE', 'SE theta0', 'SE theta1', 'rSquared'])\n",
    "    return df"
   ]
  },
  {
   "cell_type": "code",
   "execution_count": 9,
   "metadata": {},
   "outputs": [
    {
     "name": "stdout",
     "output_type": "stream",
     "text": [
      "                 Coefficient             Intercept  Equation First Variable  \\\n",
      "0   [[0.045155335780304964]]   [7.445885986310049]                 0.045155   \n",
      "1    [[0.04547298919327181]]   [7.266272732300682]                 0.045473   \n",
      "2    [[0.04736435415144585]]   [7.147843289695291]                 0.047364   \n",
      "3    [[0.04869082821938432]]   [6.702016854185516]                 0.048691   \n",
      "4   [[0.046827110280490664]]   [7.151854961125509]                 0.046827   \n",
      "5    [[0.04963210399774606]]   [6.809600167955812]                 0.049632   \n",
      "6    [[0.04789003706001967]]  [6.8559261770820585]                 0.047890   \n",
      "7   [[0.050207263935096225]]    [6.77867311959036]                 0.050207   \n",
      "8    [[0.04762701790322841]]   [7.250037467250982]                 0.047627   \n",
      "9    [[0.04506720183283138]]   [7.278669381539696]                 0.045067   \n",
      "10  [[0.048901512054254755]]   [7.194637209014954]                 0.048902   \n",
      "11   [[0.04664794965227655]]   [7.308952177625508]                 0.046648   \n",
      "12   [[0.04741188634183785]]   [7.008923750975291]                 0.047412   \n",
      "13   [[0.04769829761883161]]   [7.253619670881731]                 0.047698   \n",
      "14   [[0.04764005333197882]]   [6.973436518969504]                 0.047640   \n",
      "15  [[0.044915471425259215]]   [7.124101179179835]                 0.044915   \n",
      "16   [[0.04609630186210207]]   [7.085569585009866]                 0.046096   \n",
      "17  [[0.047595675754908105]]  [7.1486880161037245]                 0.047596   \n",
      "18   [[0.04662265046895967]]   [7.048580221676727]                 0.046623   \n",
      "19  [[0.049251091689824326]]   [6.832466821996352]                 0.049251   \n",
      "20   [[0.04303155116612222]]   [7.500675388542014]                 0.043032   \n",
      "21  [[0.046864334261603816]]   [7.265839957472989]                 0.046864   \n",
      "22  [[0.046619664066472236]]   [7.168858139515333]                 0.046620   \n",
      "23  [[0.045859502993149406]]   [7.023279483908742]                 0.045860   \n",
      "24   [[0.04408098160868418]]    [7.47314162291977]                 0.044081   \n",
      "25  [[0.047343136345997176]]   [7.005528363368202]                 0.047343   \n",
      "26   [[0.05099651601615982]]      [6.782962449712]                 0.050997   \n",
      "27   [[0.05077934257348014]]   [6.781833476393338]                 0.050779   \n",
      "28   [[0.04827830300413717]]   [7.044794187844926]                 0.048278   \n",
      "29  [[0.046585090769673786]]   [7.115234847499738]                 0.046585   \n",
      "\n",
      "    Equation Second Variable          RSS       RSE  SE theta0  SE theta1  \\\n",
      "0                   7.445886  1898.211583  3.708794          0          0   \n",
      "1                   7.266273  2380.585416  4.153386          0          0   \n",
      "2                   7.147843  2994.128354  4.657959          0          0   \n",
      "3                   6.702017  2625.063958  4.361445          0          0   \n",
      "4                   7.151855  2497.321889  4.254002          0          0   \n",
      "5                   6.809600  3030.951080  4.686514          0          0   \n",
      "6                   6.855926  2174.532849  3.969570          0          0   \n",
      "7                   6.778673  2938.128925  4.614194          0          0   \n",
      "8                   7.250037  3132.963239  4.764728          0          0   \n",
      "9                   7.278669  1990.930220  3.798293          0          0   \n",
      "10                  7.194637  3202.480268  4.817300          0          0   \n",
      "11                  7.308952  2699.241705  4.422638          0          0   \n",
      "12                  7.008924  2610.697716  4.349494          0          0   \n",
      "13                  7.253620  2718.588547  4.438459          0          0   \n",
      "14                  6.973437  2252.382602  4.040002          0          0   \n",
      "15                  7.124101  2944.633212  4.619299          0          0   \n",
      "16                  7.085570  2184.773846  3.978906          0          0   \n",
      "17                  7.148688  2755.406786  4.468413          0          0   \n",
      "18                  7.048580  2830.343614  4.528768          0          0   \n",
      "19                  6.832467  2571.695902  4.316883          0          0   \n",
      "20                  7.500675  2193.311217  3.986673          0          0   \n",
      "21                  7.265840  3073.457366  4.719262          0          0   \n",
      "22                  7.168858  2376.325637  4.149669          0          0   \n",
      "23                  7.023279  2840.281405  4.536711          0          0   \n",
      "24                  7.473142  2165.488587  3.961306          0          0   \n",
      "25                  7.005528  2526.700226  4.278951          0          0   \n",
      "26                  6.782962  3476.346432  5.019055          0          0   \n",
      "27                  6.781833  3170.159980  4.792930          0          0   \n",
      "28                  7.044794  2466.062882  4.227295          0          0   \n",
      "29                  7.115235  2232.418743  4.022058          0          0   \n",
      "\n",
      "    rSquared  \n",
      "0   0.569398  \n",
      "1   0.544330  \n",
      "2   0.606122  \n",
      "3   0.624610  \n",
      "4   0.594727  \n",
      "5   0.615930  \n",
      "6   0.613684  \n",
      "7   0.658740  \n",
      "8   0.613054  \n",
      "9   0.556872  \n",
      "10  0.619599  \n",
      "11  0.566515  \n",
      "12  0.599817  \n",
      "13  0.617692  \n",
      "14  0.626308  \n",
      "15  0.570572  \n",
      "16  0.605504  \n",
      "17  0.611502  \n",
      "18  0.605806  \n",
      "19  0.637248  \n",
      "20  0.567833  \n",
      "21  0.581993  \n",
      "22  0.597827  \n",
      "23  0.614852  \n",
      "24  0.573719  \n",
      "25  0.600552  \n",
      "26  0.649564  \n",
      "27  0.630612  \n",
      "28  0.606391  \n",
      "29  0.619590  \n"
     ]
    }
   ],
   "source": [
    "df = pd.read_csv('Advertising.csv', on_bad_lines='skip')\n",
    "print(fillDataframe(df))"
   ]
  },
  {
   "cell_type": "code",
   "execution_count": 10,
   "metadata": {},
   "outputs": [],
   "source": [
    "#Fazer a função de cálculo de SETheta0 aqui\n",
    "def calculateSETheta0(X):\n",
    "    average = np.mean(X)\n",
    "    variance = np.std(X) ** 2\n",
    "    sum = [(pivot[0] - pivot[1]) ** 2 for pivot in zip(X, average)]"
   ]
  },
  {
   "cell_type": "code",
   "execution_count": 11,
   "metadata": {},
   "outputs": [],
   "source": [
    "#Fazer a função de cálculo de SETheta1 aqui"
   ]
  },
  {
   "cell_type": "code",
   "execution_count": 12,
   "metadata": {},
   "outputs": [],
   "source": [
    "#Fazer a função de cálculo de preencher no dataframe aqui"
   ]
  }
 ],
 "metadata": {
  "kernelspec": {
   "display_name": "base",
   "language": "python",
   "name": "python3"
  },
  "language_info": {
   "codemirror_mode": {
    "name": "ipython",
    "version": 3
   },
   "file_extension": ".py",
   "mimetype": "text/x-python",
   "name": "python",
   "nbconvert_exporter": "python",
   "pygments_lexer": "ipython3",
   "version": "3.9.13"
  },
  "orig_nbformat": 4
 },
 "nbformat": 4,
 "nbformat_minor": 2
}
